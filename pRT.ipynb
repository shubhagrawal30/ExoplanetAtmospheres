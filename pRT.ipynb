{
 "cells": [
  {
   "cell_type": "code",
   "execution_count": 1,
   "metadata": {},
   "outputs": [],
   "source": [
    "import os\n",
    "os.environ['pRT_input_data_path'] = \"/scr3/kpic/prt_opacities/input_data/\"\n",
    "from petitRADTRANS import nat_cst as nc\n",
    "import numpy as np\n",
    "import matplotlib.pyplot as plt\n",
    "import pandas as pd\n",
    "from petitRADTRANS import Radtrans\n",
    "from petitRADTRANS.poor_mans_nonequ_chem import interpol_abundances"
   ]
  },
  {
   "cell_type": "code",
   "execution_count": 2,
   "metadata": {},
   "outputs": [],
   "source": [
    "WLEN = [2.3, 2.5]\n",
    "data_source = 'kpic'\n",
    "lbl_downsample = 6  # so we get R~100000\n",
    "\n",
    "sonora_file = './template_spectra/senora.cmp'\n",
    "so_df = pd.read_csv(sonora_file, delim_whitespace=True)\n",
    "sonora_pt = np.array( [ so_df['TEMP'], so_df['P(BARS)'] ] )\n",
    "# Pressure grid is from Sonora\n",
    "pressure_grid = sonora_pt[1]\n",
    "temp = sonora_pt[0]"
   ]
  },
  {
   "cell_type": "code",
   "execution_count": 4,
   "metadata": {},
   "outputs": [
    {
     "name": "stdout",
     "output_type": "stream",
     "text": [
      "\n",
      "  Read CIA opacities for H2-H2...\n"
     ]
    },
    {
     "ename": "ValueError",
     "evalue": "CIA directory '/scr3/kpic/prt_opacities/input_data/opacities/continuum/CIA/H2-H2' do not exists.",
     "output_type": "error",
     "traceback": [
      "\u001b[0;31m---------------------------------------------------------------------------\u001b[0m",
      "\u001b[0;31mValueError\u001b[0m                                Traceback (most recent call last)",
      "\u001b[0;32m<ipython-input-4-98d8d837f49b>\u001b[0m in \u001b[0;36m<module>\u001b[0;34m\u001b[0m\n\u001b[1;32m      4\u001b[0m \u001b[0;34m\u001b[0m\u001b[0m\n\u001b[1;32m      5\u001b[0m \u001b[0;31m# cloudy with scattering, following Molliere2020 for HR 8799 e\u001b[0m\u001b[0;34m\u001b[0m\u001b[0;34m\u001b[0m\u001b[0;34m\u001b[0m\u001b[0m\n\u001b[0;32m----> 6\u001b[0;31m rt_object = Radtrans(line_species=highres_species,\n\u001b[0m\u001b[1;32m      7\u001b[0m                     \u001b[0mrayleigh_species\u001b[0m\u001b[0;34m=\u001b[0m\u001b[0;34m[\u001b[0m\u001b[0;34m'H2'\u001b[0m\u001b[0;34m,\u001b[0m \u001b[0;34m'He'\u001b[0m\u001b[0;34m]\u001b[0m\u001b[0;34m,\u001b[0m\u001b[0;34m\u001b[0m\u001b[0;34m\u001b[0m\u001b[0m\n\u001b[1;32m      8\u001b[0m                     \u001b[0mcontinuum_opacities\u001b[0m\u001b[0;34m=\u001b[0m\u001b[0mcontinuum_opacities_list\u001b[0m\u001b[0;34m,\u001b[0m\u001b[0;34m\u001b[0m\u001b[0;34m\u001b[0m\u001b[0m\n",
      "\u001b[0;32m~/.conda/envs/shubh/lib/python3.8/site-packages/petitRADTRANS/radtrans.py\u001b[0m in \u001b[0;36m__init__\u001b[0;34m(self, line_species, rayleigh_species, cloud_species, continuum_opacities, wlen_bords_micron, mode, test_ck_shuffle_comp, do_scat_emis, lbl_opacity_sampling, pressures, temperatures, stellar_intensity, geometry, mu_star, semimajoraxis, hack_cloud_photospheric_tau, path_input_data)\u001b[0m\n\u001b[1;32m    265\u001b[0m \u001b[0;34m\u001b[0m\u001b[0m\n\u001b[1;32m    266\u001b[0m                     \u001b[0;32mif\u001b[0m \u001b[0mos\u001b[0m\u001b[0;34m.\u001b[0m\u001b[0mpath\u001b[0m\u001b[0;34m.\u001b[0m\u001b[0misdir\u001b[0m\u001b[0;34m(\u001b[0m\u001b[0mcia_directory\u001b[0m\u001b[0;34m)\u001b[0m \u001b[0;32mis\u001b[0m \u001b[0;32mFalse\u001b[0m\u001b[0;34m:\u001b[0m\u001b[0;34m\u001b[0m\u001b[0;34m\u001b[0m\u001b[0m\n\u001b[0;32m--> 267\u001b[0;31m                         \u001b[0;32mraise\u001b[0m \u001b[0mValueError\u001b[0m\u001b[0;34m(\u001b[0m\u001b[0;34mf\"CIA directory '{cia_directory}' do not exists.\"\u001b[0m\u001b[0;34m)\u001b[0m\u001b[0;34m\u001b[0m\u001b[0;34m\u001b[0m\u001b[0m\n\u001b[0m\u001b[1;32m    268\u001b[0m                     \u001b[0;32melse\u001b[0m\u001b[0;34m:\u001b[0m\u001b[0;34m\u001b[0m\u001b[0;34m\u001b[0m\u001b[0m\n\u001b[1;32m    269\u001b[0m                         \u001b[0mweight\u001b[0m \u001b[0;34m=\u001b[0m \u001b[0;36m1\u001b[0m\u001b[0;34m\u001b[0m\u001b[0;34m\u001b[0m\u001b[0m\n",
      "\u001b[0;31mValueError\u001b[0m: CIA directory '/scr3/kpic/prt_opacities/input_data/opacities/continuum/CIA/H2-H2' do not exists."
     ]
    }
   ],
   "source": [
    "# only CH4, H2O, and CO for simplicity\n",
    "highres_species = ['CO_main_iso_highres', 'H2O_main_iso_highres', 'CH4_main_iso_highres']\n",
    "continuum_opacities_list = ['H2-H2', 'H2-He', 'H-']\n",
    "\n",
    "# cloudy with scattering, following Molliere2020 for HR 8799 e\n",
    "rt_object = Radtrans(line_species=highres_species,\n",
    "                    rayleigh_species=['H2', 'He'],\n",
    "                    continuum_opacities=continuum_opacities_list,\n",
    "                    wlen_bords_micron=WLEN, mode='lbl', do_scat_emis=True,\n",
    "                    lbl_opacity_sampling=lbl_downsample)"
   ]
  },
  {
   "cell_type": "code",
   "execution_count": null,
   "metadata": {},
   "outputs": [],
   "source": [
    "# Create the RT arrays of appropriate lengths\n",
    "rt_object.setup_opa_structure(pressure_grid)\n",
    "\n",
    "mass_mjup = 20\n",
    "rad_rjup = 1.25\n",
    "mass_cgs = mass_mjup*nc.m_jup\n",
    "radius_cgs = rad_rjup*nc.r_jup\n",
    "grav = mass_cgs*nc.G / radius_cgs**2\n",
    "\n",
    "# Set the abundances\n",
    "ab_dict = {}\n",
    "ab_dict['C_O'] = 0.6\n",
    "ab_dict['C_H'] = 0.0\n"
   ]
  },
  {
   "cell_type": "code",
   "execution_count": null,
   "metadata": {},
   "outputs": [],
   "source": [
    "fs = 24\n",
    "fig, ax = plt.subplots(figsize=(20,10))\n",
    "for molecule in ['H2O', 'CO_main']: \n",
    "    CO_val = ab_dict['C_O']\n",
    "    C_H_val = ab_dict['C_H']\n",
    "\n",
    "    # simply call pRT function\n",
    "    abundances = {}\n",
    "    COs = CO_val * np.ones_like(pressure_grid)\n",
    "    C_Hs = C_H_val * np.ones_like(pressure_grid)\n",
    "    abundances_interp = interpol_abundances(COs, C_Hs, temp, pressure_grid)\n",
    "    MMW = abundances_interp['MMW']\n",
    "    # make sure we have correct abundances names\n",
    "    for species in rt_object.line_species:\n",
    "        if molecule in species:\n",
    "            abundances[species] = abundances_interp[species.split('_')[0]]\n",
    "        # set abundances of other species to 0\n",
    "        else:\n",
    "            abundances[species] = np.zeros(len(pressure_grid))\n",
    "                \n",
    "    abundances['H2'] = abundances_interp['H2']\n",
    "    abundances['He'] = abundances_interp['He']\n",
    "    abundances['H'] = abundances_interp['H']\n",
    "    abundances['H-'] = abundances_interp['H-']\n",
    "    abundances['e-'] = abundances_interp['e-']\n",
    "\n",
    "    # convert logKzz to Kzz, and give as array\n",
    "    Kzz = np.ones_like(temp)*1e1**logKzz\n",
    "          \n",
    "    # compute the emission spectrum\n",
    "    rt_object.calc_flux(temp, abundances, grav, MMW)\n",
    "\n",
    "    # grab the flux and wvl, and contribution function\n",
    "    wvl_microns = nc.c / rt_object.freq / 1e-4  # cm to microns\n",
    "\n",
    "    # flux from Hz^-1 to micron^-1, then erg/s/cm^2 to W/m^2\n",
    "    flux_unit_fac = (nc.c / wvl_microns ** 2 * 1e4) * 1e-3\n",
    "    flux_SI_surface = rt_object.flux * flux_unit_fac\n",
    "    \n",
    "    # plot spectum of only 1 molecule\n",
    "    ax.plot(wvl_microns, flux_SI_surface, alpha=0.6, linewidth=4, label=molecule)\n",
    "\n",
    "ax.set_xlabel('Wavelength (microns)', fontsize=fs)\n",
    "ax.set_ylabel('Outgoing Flux (W/m^2)', fontsize=fs)\n",
    "ax.tick_params(labelsize=fs)\n",
    "ax.legend(fontsize=fs)\n",
    "plt.show()"
   ]
  }
 ],
 "metadata": {
  "kernelspec": {
   "display_name": "shubh",
   "language": "python",
   "name": "python3"
  },
  "language_info": {
   "codemirror_mode": {
    "name": "ipython",
    "version": 3
   },
   "file_extension": ".py",
   "mimetype": "text/x-python",
   "name": "python",
   "nbconvert_exporter": "python",
   "pygments_lexer": "ipython3",
   "version": "3.8.10"
  },
  "orig_nbformat": 4,
  "vscode": {
   "interpreter": {
    "hash": "7bda50daa627a3ded88ae136a1706739ad7475a9a6b53585aff70b4fbe6639ad"
   }
  }
 },
 "nbformat": 4,
 "nbformat_minor": 2
}
