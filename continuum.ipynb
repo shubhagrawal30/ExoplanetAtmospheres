{
 "cells": [
  {
   "cell_type": "code",
   "execution_count": 3,
   "metadata": {},
   "outputs": [],
   "source": [
    "import numpy as np\n",
    "import matplotlib.pyplot as plt\n",
    "from astropy.modeling.models import BlackBody\n",
    "import astropy.units as u"
   ]
  },
  {
   "cell_type": "code",
   "execution_count": 4,
   "metadata": {},
   "outputs": [],
   "source": [
    "B_lambda_units = 1*u.W/u.m**2/u.sr/u.m\n",
    "def BB_lambda(T : u.K, wavelength_or_frequency) -> u.W/u.m**2/u.sr/u.m:\n",
    "    BB = BlackBody(temperature=T, scale = B_lambda_units)\n",
    "    return BB(wavelength_or_frequency)"
   ]
  },
  {
   "cell_type": "code",
   "execution_count": null,
   "metadata": {},
   "outputs": [],
   "source": []
  }
 ],
 "metadata": {
  "kernelspec": {
   "display_name": "shubh",
   "language": "python",
   "name": "python3"
  },
  "language_info": {
   "codemirror_mode": {
    "name": "ipython",
    "version": 3
   },
   "file_extension": ".py",
   "mimetype": "text/x-python",
   "name": "python",
   "nbconvert_exporter": "python",
   "pygments_lexer": "ipython3",
   "version": "3.8.13"
  },
  "orig_nbformat": 4,
  "vscode": {
   "interpreter": {
    "hash": "a155f07705480a249d6f18f52baa3789778be87ba99967444f3a2b15f4a8c613"
   }
  }
 },
 "nbformat": 4,
 "nbformat_minor": 2
}
